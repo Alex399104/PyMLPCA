{
  "nbformat": 4,
  "nbformat_minor": 0,
  "metadata": {
    "colab": {
      "name": "PyML.ipynb",
      "provenance": [],
      "collapsed_sections": []
    },
    "kernelspec": {
      "name": "python3",
      "display_name": "Python 3"
    }
  },
  "cells": [
    {
      "cell_type": "code",
      "metadata": {
        "id": "qRPHiOymkGe_"
      },
      "source": [
        "import numpy as np\r\n",
        "from keras.datasets import mnist\r\n",
        "from sklearn.decomposition import PCA\r\n",
        "from sklearn.model_selection import train_test_split\r\n",
        "import matplotlib.pyplot as plt\r\n",
        "import statistics\r\n",
        "\r\n",
        "(X_train, y_train), (X_pred, y_pred) = mnist.load_data()\r\n",
        "\r\n",
        "dim = 784\r\n",
        "X_train = X_train.reshape(len(X_train), dim)\r\n",
        "X_pred = X_pred.reshape(len(X_pred), dim)"
      ],
      "execution_count": null,
      "outputs": []
    },
    {
      "cell_type": "code",
      "metadata": {
        "id": "33F03c3JlC1R"
      },
      "source": [
        "pca_full = PCA(n_components=dim, svd_solver='full')\r\n",
        "\r\n",
        "X_full = pca_full.fit(X_train).transform(X_train)"
      ],
      "execution_count": null,
      "outputs": []
    },
    {
      "cell_type": "code",
      "metadata": {
        "colab": {
          "base_uri": "https://localhost:8080/"
        },
        "id": "SeBbEx-sptQo",
        "outputId": "f96d4f23-0c3f-4c62-e54a-71f81faa8b9b"
      },
      "source": [
        "explained_variance = np.round(np.cumsum(pca_full.explained_variance_ratio_),2)\r\n",
        "explained_variance"
      ],
      "execution_count": null,
      "outputs": [
        {
          "output_type": "execute_result",
          "data": {
            "text/plain": [
              "array([0.1 , 0.17, 0.23, 0.28, 0.33, 0.38, 0.41, 0.44, 0.46, 0.49, 0.51,\n",
              "       0.53, 0.55, 0.56, 0.58, 0.59, 0.61, 0.62, 0.63, 0.64, 0.65, 0.66,\n",
              "       0.67, 0.68, 0.69, 0.7 , 0.71, 0.72, 0.72, 0.73, 0.74, 0.74, 0.75,\n",
              "       0.76, 0.76, 0.77, 0.77, 0.78, 0.78, 0.79, 0.79, 0.8 , 0.8 , 0.8 ,\n",
              "       0.81, 0.81, 0.81, 0.82, 0.82, 0.82, 0.83, 0.83, 0.83, 0.84, 0.84,\n",
              "       0.84, 0.85, 0.85, 0.85, 0.85, 0.86, 0.86, 0.86, 0.86, 0.86, 0.87,\n",
              "       0.87, 0.87, 0.87, 0.87, 0.88, 0.88, 0.88, 0.88, 0.88, 0.88, 0.89,\n",
              "       0.89, 0.89, 0.89, 0.89, 0.89, 0.89, 0.9 , 0.9 , 0.9 , 0.9 , 0.9 ,\n",
              "       0.9 , 0.9 , 0.9 , 0.91, 0.91, 0.91, 0.91, 0.91, 0.91, 0.91, 0.91,\n",
              "       0.91, 0.92, 0.92, 0.92, 0.92, 0.92, 0.92, 0.92, 0.92, 0.92, 0.92,\n",
              "       0.92, 0.93, 0.93, 0.93, 0.93, 0.93, 0.93, 0.93, 0.93, 0.93, 0.93,\n",
              "       0.93, 0.93, 0.93, 0.93, 0.94, 0.94, 0.94, 0.94, 0.94, 0.94, 0.94,\n",
              "       0.94, 0.94, 0.94, 0.94, 0.94, 0.94, 0.94, 0.94, 0.94, 0.94, 0.94,\n",
              "       0.95, 0.95, 0.95, 0.95, 0.95, 0.95, 0.95, 0.95, 0.95, 0.95, 0.95,\n",
              "       0.95, 0.95, 0.95, 0.95, 0.95, 0.95, 0.95, 0.95, 0.95, 0.95, 0.95,\n",
              "       0.96, 0.96, 0.96, 0.96, 0.96, 0.96, 0.96, 0.96, 0.96, 0.96, 0.96,\n",
              "       0.96, 0.96, 0.96, 0.96, 0.96, 0.96, 0.96, 0.96, 0.96, 0.96, 0.96,\n",
              "       0.96, 0.96, 0.96, 0.96, 0.96, 0.96, 0.96, 0.96, 0.97, 0.97, 0.97,\n",
              "       0.97, 0.97, 0.97, 0.97, 0.97, 0.97, 0.97, 0.97, 0.97, 0.97, 0.97,\n",
              "       0.97, 0.97, 0.97, 0.97, 0.97, 0.97, 0.97, 0.97, 0.97, 0.97, 0.97,\n",
              "       0.97, 0.97, 0.97, 0.97, 0.97, 0.97, 0.97, 0.97, 0.97, 0.97, 0.97,\n",
              "       0.97, 0.97, 0.97, 0.98, 0.98, 0.98, 0.98, 0.98, 0.98, 0.98, 0.98,\n",
              "       0.98, 0.98, 0.98, 0.98, 0.98, 0.98, 0.98, 0.98, 0.98, 0.98, 0.98,\n",
              "       0.98, 0.98, 0.98, 0.98, 0.98, 0.98, 0.98, 0.98, 0.98, 0.98, 0.98,\n",
              "       0.98, 0.98, 0.98, 0.98, 0.98, 0.98, 0.98, 0.98, 0.98, 0.98, 0.98,\n",
              "       0.98, 0.98, 0.98, 0.98, 0.98, 0.98, 0.98, 0.98, 0.98, 0.98, 0.98,\n",
              "       0.98, 0.98, 0.98, 0.98, 0.98, 0.99, 0.99, 0.99, 0.99, 0.99, 0.99,\n",
              "       0.99, 0.99, 0.99, 0.99, 0.99, 0.99, 0.99, 0.99, 0.99, 0.99, 0.99,\n",
              "       0.99, 0.99, 0.99, 0.99, 0.99, 0.99, 0.99, 0.99, 0.99, 0.99, 0.99,\n",
              "       0.99, 0.99, 0.99, 0.99, 0.99, 0.99, 0.99, 0.99, 0.99, 0.99, 0.99,\n",
              "       0.99, 0.99, 0.99, 0.99, 0.99, 0.99, 0.99, 0.99, 0.99, 0.99, 0.99,\n",
              "       0.99, 0.99, 0.99, 0.99, 0.99, 0.99, 0.99, 0.99, 0.99, 0.99, 0.99,\n",
              "       0.99, 0.99, 0.99, 0.99, 0.99, 0.99, 0.99, 0.99, 0.99, 0.99, 0.99,\n",
              "       0.99, 0.99, 0.99, 0.99, 0.99, 0.99, 0.99, 0.99, 0.99, 0.99, 0.99,\n",
              "       0.99, 0.99, 0.99, 0.99, 0.99, 0.99, 0.99, 0.99, 0.99, 0.99, 0.99,\n",
              "       0.99, 0.99, 1.  , 1.  , 1.  , 1.  , 1.  , 1.  , 1.  , 1.  , 1.  ,\n",
              "       1.  , 1.  , 1.  , 1.  , 1.  , 1.  , 1.  , 1.  , 1.  , 1.  , 1.  ,\n",
              "       1.  , 1.  , 1.  , 1.  , 1.  , 1.  , 1.  , 1.  , 1.  , 1.  , 1.  ,\n",
              "       1.  , 1.  , 1.  , 1.  , 1.  , 1.  , 1.  , 1.  , 1.  , 1.  , 1.  ,\n",
              "       1.  , 1.  , 1.  , 1.  , 1.  , 1.  , 1.  , 1.  , 1.  , 1.  , 1.  ,\n",
              "       1.  , 1.  , 1.  , 1.  , 1.  , 1.  , 1.  , 1.  , 1.  , 1.  , 1.  ,\n",
              "       1.  , 1.  , 1.  , 1.  , 1.  , 1.  , 1.  , 1.  , 1.  , 1.  , 1.  ,\n",
              "       1.  , 1.  , 1.  , 1.  , 1.  , 1.  , 1.  , 1.  , 1.  , 1.  , 1.  ,\n",
              "       1.  , 1.  , 1.  , 1.  , 1.  , 1.  , 1.  , 1.  , 1.  , 1.  , 1.  ,\n",
              "       1.  , 1.  , 1.  , 1.  , 1.  , 1.  , 1.  , 1.  , 1.  , 1.  , 1.  ,\n",
              "       1.  , 1.  , 1.  , 1.  , 1.  , 1.  , 1.  , 1.  , 1.  , 1.  , 1.  ,\n",
              "       1.  , 1.  , 1.  , 1.  , 1.  , 1.  , 1.  , 1.  , 1.  , 1.  , 1.  ,\n",
              "       1.  , 1.  , 1.  , 1.  , 1.  , 1.  , 1.  , 1.  , 1.  , 1.  , 1.  ,\n",
              "       1.  , 1.  , 1.  , 1.  , 1.  , 1.  , 1.  , 1.  , 1.  , 1.  , 1.  ,\n",
              "       1.  , 1.  , 1.  , 1.  , 1.  , 1.  , 1.  , 1.  , 1.  , 1.  , 1.  ,\n",
              "       1.  , 1.  , 1.  , 1.  , 1.  , 1.  , 1.  , 1.  , 1.  , 1.  , 1.  ,\n",
              "       1.  , 1.  , 1.  , 1.  , 1.  , 1.  , 1.  , 1.  , 1.  , 1.  , 1.  ,\n",
              "       1.  , 1.  , 1.  , 1.  , 1.  , 1.  , 1.  , 1.  , 1.  , 1.  , 1.  ,\n",
              "       1.  , 1.  , 1.  , 1.  , 1.  , 1.  , 1.  , 1.  , 1.  , 1.  , 1.  ,\n",
              "       1.  , 1.  , 1.  , 1.  , 1.  , 1.  , 1.  , 1.  , 1.  , 1.  , 1.  ,\n",
              "       1.  , 1.  , 1.  , 1.  , 1.  , 1.  , 1.  , 1.  , 1.  , 1.  , 1.  ,\n",
              "       1.  , 1.  , 1.  , 1.  , 1.  , 1.  , 1.  , 1.  , 1.  , 1.  , 1.  ,\n",
              "       1.  , 1.  , 1.  , 1.  , 1.  , 1.  , 1.  , 1.  , 1.  , 1.  , 1.  ,\n",
              "       1.  , 1.  , 1.  , 1.  , 1.  , 1.  , 1.  , 1.  , 1.  , 1.  , 1.  ,\n",
              "       1.  , 1.  , 1.  , 1.  , 1.  , 1.  , 1.  , 1.  , 1.  , 1.  , 1.  ,\n",
              "       1.  , 1.  , 1.  , 1.  , 1.  , 1.  , 1.  , 1.  , 1.  , 1.  , 1.  ,\n",
              "       1.  , 1.  , 1.  , 1.  , 1.  , 1.  , 1.  , 1.  , 1.  , 1.  , 1.  ,\n",
              "       1.  , 1.  , 1.  , 1.  , 1.  , 1.  , 1.  , 1.  , 1.  , 1.  , 1.  ,\n",
              "       1.  , 1.  , 1.  , 1.  , 1.  , 1.  , 1.  , 1.  , 1.  , 1.  , 1.  ,\n",
              "       1.  , 1.  , 1.  , 1.  , 1.  , 1.  , 1.  , 1.  , 1.  , 1.  , 1.  ,\n",
              "       1.  , 1.  , 1.  , 1.  , 1.  , 1.  , 1.  , 1.  , 1.  , 1.  , 1.  ,\n",
              "       1.  , 1.  , 1.  , 1.  , 1.  , 1.  , 1.  , 1.  , 1.  , 1.  , 1.  ,\n",
              "       1.  , 1.  , 1.  , 1.  , 1.  , 1.  , 1.  , 1.  , 1.  , 1.  , 1.  ,\n",
              "       1.  , 1.  , 1.  , 1.  , 1.  , 1.  , 1.  , 1.  , 1.  , 1.  , 1.  ,\n",
              "       1.  , 1.  , 1.  , 1.  , 1.  , 1.  , 1.  , 1.  , 1.  , 1.  , 1.  ,\n",
              "       1.  , 1.  , 1.  , 1.  , 1.  , 1.  , 1.  , 1.  , 1.  , 1.  , 1.  ,\n",
              "       1.  , 1.  , 1.  ])"
            ]
          },
          "metadata": {
            "tags": []
          },
          "execution_count": 3
        }
      ]
    },
    {
      "cell_type": "code",
      "metadata": {
        "colab": {
          "base_uri": "https://localhost:8080/",
          "height": 317
        },
        "id": "2HfDPxFjqFbF",
        "outputId": "de3b54ba-218d-4756-96ce-cf121b723eb2"
      },
      "source": [
        "cumulative = []\r\n",
        "\r\n",
        "last = 0\r\n",
        "\r\n",
        "for v in pca_full.explained_variance_ratio_:\r\n",
        "  cumulative.append(last + v)\r\n",
        "  last = cumulative[-1]\r\n",
        "\r\n",
        "plt.plot(cumulative)\r\n",
        "plt.show()\r\n",
        "\r\n",
        "for i in range(len(cumulative)):\r\n",
        "  if round(cumulative[i],2) > 0.84:\r\n",
        "    print(\"\\nМинимальное количество главных компонент равно: \", i, \r\n",
        "          \"\\nОкругленная дисперсия равна: \", round(cumulative[i],2))\r\n",
        "    M = i\r\n",
        "    break"
      ],
      "execution_count": null,
      "outputs": [
        {
          "output_type": "display_data",
          "data": {
            "image/png": "[encoded data removed]",
            "text/plain": [
              "<Figure size 432x288 with 1 Axes>"
            ]
          },
          "metadata": {
            "tags": [],
            "needs_background": "light"
          }
        },
        {
          "output_type": "stream",
          "text": [
            "\n",
            "Минимальное количество главных компонент равно:  56 \n",
            "Округленная дисперсия равна:  0.85\n"
          ],
          "name": "stdout"
        }
      ]
    },
    {
      "cell_type": "code",
      "metadata": {
        "colab": {
          "base_uri": "https://localhost:8080/"
        },
        "id": "tS-H9LAV0Se7",
        "outputId": "beef2912-bb12-4ef2-dc7d-1c82970e3aac"
      },
      "source": [
        "pca_min_components = PCA(n_components=M, svd_solver='full')\r\n",
        "\r\n",
        "X_train_min = pca_min_components.fit(X_train).transform(X_train)\r\n",
        "X_pred_min = pca_min_components.transform(X_pred)\r\n",
        "\r\n",
        "explained_variance_min_components = np.round(np.cumsum(pca_min_components.explained_variance_ratio_),2)\r\n",
        "explained_variance_min_components\r\n",
        "\r\n",
        "X_train_split, X_test_split, y_train_split, y_test_split = train_test_split(X_train_min, y_train, test_size=0.3, random_state=95)\r\n",
        "\r\n",
        "\r\n",
        "mean_zero = np.mean(X_train_split[:,0])\r\n",
        "\r\n",
        "print(X_train_split[:,0])\r\n",
        "\r\n",
        "print(\"\\nСреднее значение: \", round(mean_zero,2))"
      ],
      "execution_count": null,
      "outputs": [
        {
          "output_type": "stream",
          "text": [
            "[1278.31927711 -946.35423362  776.7612818  ...   55.20009025  478.01950655\n",
            "  589.8028766 ]\n",
            "\n",
            "Среднее значение:  2.97\n"
          ],
          "name": "stdout"
        }
      ]
    },
    {
      "cell_type": "code",
      "metadata": {
        "colab": {
          "base_uri": "https://localhost:8080/"
        },
        "id": "D3hPpIvkwDsc",
        "outputId": "5691d16d-3634-45f4-aa1f-2cce37305ad4"
      },
      "source": [
        "from sklearn.ensemble import RandomForestClassifier\r\n",
        "from sklearn.multiclass import OneVsRestClassifier\r\n",
        "from sklearn.metrics import confusion_matrix\r\n",
        "\r\n",
        "tree = RandomForestClassifier(criterion='gini', min_samples_leaf=10,\r\n",
        "                              max_depth=20, n_estimators=10, random_state=95)\r\n",
        "clf = OneVsRestClassifier(tree).fit(X_train_split, y_train_split)\r\n",
        "\r\n",
        "y_pred = clf.predict(X_test_split)\r\n",
        "CM = confusion_matrix(y_test_split, y_pred)\r\n",
        "\r\n",
        "print(CM)\r\n",
        "print(\"\\n\\nКоличество верно классифицированных и относсящихся к классу 4: \", CM[4][4])"
      ],
      "execution_count": null,
      "outputs": [
        {
          "output_type": "stream",
          "text": [
            "[[1643    0    8    3    3    7   20    6    8    3]\n",
            " [   2 1989   13    6    3    7    5    7    6    4]\n",
            " [  11   12 1661   23   10    7   11   28   38    8]\n",
            " [   5    5   55 1600    4   59    4   13   33   18]\n",
            " [   8   11   16    0 1603    9   24    8   16   71]\n",
            " [  22    3   11   68   14 1409   26    4   29   14]\n",
            " [  25    1   11    2    4   28 1720    0   11    0]\n",
            " [   9   19   22    7   35    7    1 1794   12   49]\n",
            " [  21   11   23   60   10   59    9    7 1480   25]\n",
            " [  14   12   10   26   73   11    3   34   14 1627]]\n",
            "\n",
            "\n",
            "Количество верно классифицированных и относсящихся к классу 4:  1603\n"
          ],
          "name": "stdout"
        }
      ]
    },
    {
      "cell_type": "code",
      "metadata": {
        "colab": {
          "base_uri": "https://localhost:8080/"
        },
        "id": "_pDPxYGv09cI",
        "outputId": "84c2d9fb-093b-47b7-dbd0-c6ff128198f1"
      },
      "source": [
        "from sklearn.linear_model import LogisticRegression\r\n",
        "\r\n",
        "lr = LogisticRegression(solver='lbfgs', random_state=95)\r\n",
        "clf_lr = OneVsRestClassifier(lr).fit(X_train_split, y_train_split)\r\n",
        "\r\n",
        "y_pred_lr = clf_lr.predict(X_test_split)\r\n",
        "CM_lr = confusion_matrix(y_test_split, y_pred)\r\n",
        "\r\n",
        "print(CM_lr)\r\n",
        "print(\"\\n\\nКоличество верно классифицированных и относсящихся к классу 6: \", CM_lr[6][6])"
      ],
      "execution_count": null,
      "outputs": [
        {
          "output_type": "stream",
          "text": [
            "/usr/local/lib/python3.6/dist-packages/sklearn/linear_model/_logistic.py:940: ConvergenceWarning: lbfgs failed to converge (status=1):\n",
            "STOP: TOTAL NO. of ITERATIONS REACHED LIMIT.\n",
            "\n",
            "Increase the number of iterations (max_iter) or scale the data as shown in:\n",
            "    https://scikit-learn.org/stable/modules/preprocessing.html\n",
            "Please also refer to the documentation for alternative solver options:\n",
            "    https://scikit-learn.org/stable/modules/linear_model.html#logistic-regression\n",
            "  extra_warning_msg=_LOGISTIC_SOLVER_CONVERGENCE_MSG)\n",
            "/usr/local/lib/python3.6/dist-packages/sklearn/linear_model/_logistic.py:940: ConvergenceWarning: lbfgs failed to converge (status=1):\n",
            "STOP: TOTAL NO. of ITERATIONS REACHED LIMIT.\n",
            "\n",
            "Increase the number of iterations (max_iter) or scale the data as shown in:\n",
            "    https://scikit-learn.org/stable/modules/preprocessing.html\n",
            "Please also refer to the documentation for alternative solver options:\n",
            "    https://scikit-learn.org/stable/modules/linear_model.html#logistic-regression\n",
            "  extra_warning_msg=_LOGISTIC_SOLVER_CONVERGENCE_MSG)\n"
          ],
          "name": "stderr"
        },
        {
          "output_type": "stream",
          "text": [
            "[[1643    0    8    3    3    7   20    6    8    3]\n",
            " [   2 1989   13    6    3    7    5    7    6    4]\n",
            " [  11   12 1661   23   10    7   11   28   38    8]\n",
            " [   5    5   55 1600    4   59    4   13   33   18]\n",
            " [   8   11   16    0 1603    9   24    8   16   71]\n",
            " [  22    3   11   68   14 1409   26    4   29   14]\n",
            " [  25    1   11    2    4   28 1720    0   11    0]\n",
            " [   9   19   22    7   35    7    1 1794   12   49]\n",
            " [  21   11   23   60   10   59    9    7 1480   25]\n",
            " [  14   12   10   26   73   11    3   34   14 1627]]\n",
            "\n",
            "\n",
            "Количество верно классифицированных и относсящихся к классу 6:  1720\n"
          ],
          "name": "stdout"
        }
      ]
    },
    {
      "cell_type": "code",
      "metadata": {
        "colab": {
          "base_uri": "https://localhost:8080/"
        },
        "id": "qvglqiXC3NO1",
        "outputId": "09d1f3c1-f18f-4033-b515-d0aa3279f18a"
      },
      "source": [
        "from sklearn.tree import DecisionTreeClassifier\r\n",
        "\r\n",
        "dtc = DecisionTreeClassifier(criterion=\"gini\", min_samples_leaf=10, max_depth=20, random_state=95)\r\n",
        "clf_dtc = OneVsRestClassifier(dtc).fit(X_train_split, y_train_split)\r\n",
        "\r\n",
        "y_pred_dtc = clf_dtc.predict(X_test_split)\r\n",
        "CM_dtc = confusion_matrix(y_test_split, y_pred)\r\n",
        "\r\n",
        "print(CM_dtc)\r\n",
        "print(\"\\n\\nКоличество верно классифицированных и относсящихся к классу 7: \", CM_dtc[7][7])"
      ],
      "execution_count": null,
      "outputs": [
        {
          "output_type": "stream",
          "text": [
            "[[1643    0    8    3    3    7   20    6    8    3]\n",
            " [   2 1989   13    6    3    7    5    7    6    4]\n",
            " [  11   12 1661   23   10    7   11   28   38    8]\n",
            " [   5    5   55 1600    4   59    4   13   33   18]\n",
            " [   8   11   16    0 1603    9   24    8   16   71]\n",
            " [  22    3   11   68   14 1409   26    4   29   14]\n",
            " [  25    1   11    2    4   28 1720    0   11    0]\n",
            " [   9   19   22    7   35    7    1 1794   12   49]\n",
            " [  21   11   23   60   10   59    9    7 1480   25]\n",
            " [  14   12   10   26   73   11    3   34   14 1627]]\n",
            "\n",
            "\n",
            "Количество верно классифицированных и относсящихся к классу 7:  1794\n"
          ],
          "name": "stdout"
        }
      ]
    },
    {
      "cell_type": "code",
      "metadata": {
        "id": "tIgnnBYU67dH"
      },
      "source": [
        "import pandas as pd\r\n",
        "\r\n",
        "data_pred = pd.read_csv(\"pred_for_task.csv\", index_col=\"FileName\")\r\n",
        "\r\n",
        "data_X = data_pred.drop(columns=[\"Label\"])\r\n",
        "\r\n",
        "data_y = data_pred[\"Label\"] \r\n",
        "\r\n",
        "\r\n",
        "data_X = pca_min_components.transform(data_X)\r\n",
        "\r\n",
        "data_X = pd.DataFrame(data_X, index=[data_pred.index])"
      ],
      "execution_count": null,
      "outputs": []
    },
    {
      "cell_type": "code",
      "metadata": {
        "colab": {
          "base_uri": "https://localhost:8080/"
        },
        "id": "vmDeXgfdBhrH",
        "outputId": "40416e41-2385-43d6-c9f1-f8922a026c72"
      },
      "source": [
        "file_3_x = data_X.loc[\"file3\"]\r\n",
        "file_1_x = data_X.loc[\"file1\"]\r\n",
        "file_23_x = data_X.loc[\"file23\"]\r\n",
        "\r\n",
        "file_3_y = data_y.loc[\"file3\"]\r\n",
        "file_1_y = data_y.loc[\"file1\"]\r\n",
        "file_23_y = data_y.loc[\"file23\"]\r\n",
        "\r\n",
        "predict_file_3 = clf.predict_proba(file_3_x) # Случайный лес\r\n",
        "predict_file_1 = clf_lr.predict_proba(file_1_x) # Логистическая регрессия\r\n",
        "predict_file_23 = clf_dtc.predict_proba(file_23_x) # Дерево принятия решений\r\n",
        "\r\n",
        "print(round(predict_file_3[0][file_3_y],3))\r\n",
        "print(round(predict_file_1[0][file_1_y],3))\r\n",
        "print(round(predict_file_23[0][file_23_y],3))"
      ],
      "execution_count": null,
      "outputs": [
        {
          "output_type": "stream",
          "text": [
            "0.998\n",
            "0.915\n",
            "0.989\n"
          ],
          "name": "stdout"
        }
      ]
    }
  ]
}